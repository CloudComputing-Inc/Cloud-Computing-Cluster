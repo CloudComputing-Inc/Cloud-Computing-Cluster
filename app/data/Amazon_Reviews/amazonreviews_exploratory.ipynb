{
 "cells": [
  {
   "cell_type": "code",
   "execution_count": 2,
   "id": "9ce835c8",
   "metadata": {},
   "outputs": [],
   "source": [
    "import pandas as pd\n",
    "import gzip\n",
    "import json\n",
    "\n",
    "def parse(path):\n",
    "  g = gzip.open(path, 'rb')\n",
    "  for l in g:\n",
    "    yield json.loads(l)\n",
    "\n",
    "def getDF(path):\n",
    "  i = 0\n",
    "  df = {}\n",
    "  for d in parse(path):\n",
    "    df[i] = d\n",
    "    i += 1\n",
    "  return pd.DataFrame.from_dict(df, orient='index')\n",
    "\n",
    "df = getDF('data/Electronics.jsonl.gz')"
   ]
  },
  {
   "cell_type": "code",
   "execution_count": 3,
   "id": "db5171d1",
   "metadata": {
    "scrolled": true
   },
   "outputs": [
    {
     "data": {
      "text/html": [
       "<div>\n",
       "<style scoped>\n",
       "    .dataframe tbody tr th:only-of-type {\n",
       "        vertical-align: middle;\n",
       "    }\n",
       "\n",
       "    .dataframe tbody tr th {\n",
       "        vertical-align: top;\n",
       "    }\n",
       "\n",
       "    .dataframe thead th {\n",
       "        text-align: right;\n",
       "    }\n",
       "</style>\n",
       "<table border=\"1\" class=\"dataframe\">\n",
       "  <thead>\n",
       "    <tr style=\"text-align: right;\">\n",
       "      <th></th>\n",
       "      <th>rating</th>\n",
       "      <th>title</th>\n",
       "      <th>text</th>\n",
       "      <th>images</th>\n",
       "      <th>asin</th>\n",
       "      <th>parent_asin</th>\n",
       "      <th>user_id</th>\n",
       "      <th>timestamp</th>\n",
       "      <th>helpful_vote</th>\n",
       "      <th>verified_purchase</th>\n",
       "    </tr>\n",
       "  </thead>\n",
       "  <tbody>\n",
       "    <tr>\n",
       "      <th>0</th>\n",
       "      <td>3.0</td>\n",
       "      <td>Smells like gasoline! Going back!</td>\n",
       "      <td>First &amp; most offensive: they reek of gasoline ...</td>\n",
       "      <td>[{'small_image_url': 'https://m.media-amazon.c...</td>\n",
       "      <td>B083NRGZMM</td>\n",
       "      <td>B083NRGZMM</td>\n",
       "      <td>AFKZENTNBQ7A7V7UXW5JJI6UGRYQ</td>\n",
       "      <td>1658185117948</td>\n",
       "      <td>0</td>\n",
       "      <td>True</td>\n",
       "    </tr>\n",
       "    <tr>\n",
       "      <th>1</th>\n",
       "      <td>1.0</td>\n",
       "      <td>Didn’t work at all lenses loose/broken.</td>\n",
       "      <td>These didn’t work. Idk if they were damaged in...</td>\n",
       "      <td>[]</td>\n",
       "      <td>B07N69T6TM</td>\n",
       "      <td>B07N69T6TM</td>\n",
       "      <td>AFKZENTNBQ7A7V7UXW5JJI6UGRYQ</td>\n",
       "      <td>1592678549731</td>\n",
       "      <td>0</td>\n",
       "      <td>True</td>\n",
       "    </tr>\n",
       "    <tr>\n",
       "      <th>2</th>\n",
       "      <td>5.0</td>\n",
       "      <td>Excellent!</td>\n",
       "      <td>I love these. They even come with a carry case...</td>\n",
       "      <td>[]</td>\n",
       "      <td>B01G8JO5F2</td>\n",
       "      <td>B01G8JO5F2</td>\n",
       "      <td>AFKZENTNBQ7A7V7UXW5JJI6UGRYQ</td>\n",
       "      <td>1523093017534</td>\n",
       "      <td>0</td>\n",
       "      <td>True</td>\n",
       "    </tr>\n",
       "    <tr>\n",
       "      <th>3</th>\n",
       "      <td>5.0</td>\n",
       "      <td>Great laptop backpack!</td>\n",
       "      <td>I was searching for a sturdy backpack for scho...</td>\n",
       "      <td>[]</td>\n",
       "      <td>B001OC5JKY</td>\n",
       "      <td>B001OC5JKY</td>\n",
       "      <td>AGGZ357AO26RQZVRLGU4D4N52DZQ</td>\n",
       "      <td>1290278495000</td>\n",
       "      <td>18</td>\n",
       "      <td>True</td>\n",
       "    </tr>\n",
       "    <tr>\n",
       "      <th>4</th>\n",
       "      <td>5.0</td>\n",
       "      <td>Best Headphones in the Fifties price range!</td>\n",
       "      <td>I've bought these headphones three times becau...</td>\n",
       "      <td>[]</td>\n",
       "      <td>B013J7WUGC</td>\n",
       "      <td>B07CJYMRWM</td>\n",
       "      <td>AG2L7H23R5LLKDKLBEF2Q3L2MVDA</td>\n",
       "      <td>1676601581238</td>\n",
       "      <td>0</td>\n",
       "      <td>True</td>\n",
       "    </tr>\n",
       "  </tbody>\n",
       "</table>\n",
       "</div>"
      ],
      "text/plain": [
       "   rating                                        title  \\\n",
       "0     3.0            Smells like gasoline! Going back!   \n",
       "1     1.0      Didn’t work at all lenses loose/broken.   \n",
       "2     5.0                                   Excellent!   \n",
       "3     5.0                       Great laptop backpack!   \n",
       "4     5.0  Best Headphones in the Fifties price range!   \n",
       "\n",
       "                                                text  \\\n",
       "0  First & most offensive: they reek of gasoline ...   \n",
       "1  These didn’t work. Idk if they were damaged in...   \n",
       "2  I love these. They even come with a carry case...   \n",
       "3  I was searching for a sturdy backpack for scho...   \n",
       "4  I've bought these headphones three times becau...   \n",
       "\n",
       "                                              images        asin parent_asin  \\\n",
       "0  [{'small_image_url': 'https://m.media-amazon.c...  B083NRGZMM  B083NRGZMM   \n",
       "1                                                 []  B07N69T6TM  B07N69T6TM   \n",
       "2                                                 []  B01G8JO5F2  B01G8JO5F2   \n",
       "3                                                 []  B001OC5JKY  B001OC5JKY   \n",
       "4                                                 []  B013J7WUGC  B07CJYMRWM   \n",
       "\n",
       "                        user_id      timestamp  helpful_vote  \\\n",
       "0  AFKZENTNBQ7A7V7UXW5JJI6UGRYQ  1658185117948             0   \n",
       "1  AFKZENTNBQ7A7V7UXW5JJI6UGRYQ  1592678549731             0   \n",
       "2  AFKZENTNBQ7A7V7UXW5JJI6UGRYQ  1523093017534             0   \n",
       "3  AGGZ357AO26RQZVRLGU4D4N52DZQ  1290278495000            18   \n",
       "4  AG2L7H23R5LLKDKLBEF2Q3L2MVDA  1676601581238             0   \n",
       "\n",
       "   verified_purchase  \n",
       "0               True  \n",
       "1               True  \n",
       "2               True  \n",
       "3               True  \n",
       "4               True  "
      ]
     },
     "execution_count": 3,
     "metadata": {},
     "output_type": "execute_result"
    }
   ],
   "source": [
    "df.head()"
   ]
  },
  {
   "cell_type": "code",
   "execution_count": 4,
   "id": "dd08d063",
   "metadata": {},
   "outputs": [
    {
     "data": {
      "text/plain": [
       "[{'small_image_url': 'https://m.media-amazon.com/images/I/71YN+Qk3kCL._SL256_.jpg',\n",
       "  'medium_image_url': 'https://m.media-amazon.com/images/I/71YN+Qk3kCL._SL800_.jpg',\n",
       "  'large_image_url': 'https://m.media-amazon.com/images/I/71YN+Qk3kCL._SL1600_.jpg',\n",
       "  'attachment_type': 'IMAGE'}]"
      ]
     },
     "execution_count": 4,
     "metadata": {},
     "output_type": "execute_result"
    }
   ],
   "source": [
    "df.iloc[0].loc['images']"
   ]
  },
  {
   "cell_type": "code",
   "execution_count": 5,
   "id": "e318746d",
   "metadata": {},
   "outputs": [
    {
     "name": "stdout",
     "output_type": "stream",
     "text": [
      "<class 'pandas.core.frame.DataFrame'>\n",
      "Index: 43886944 entries, 0 to 43886943\n",
      "Data columns (total 10 columns):\n",
      " #   Column             Dtype  \n",
      "---  ------             -----  \n",
      " 0   rating             float64\n",
      " 1   title              object \n",
      " 2   text               object \n",
      " 3   images             object \n",
      " 4   asin               object \n",
      " 5   parent_asin        object \n",
      " 6   user_id            object \n",
      " 7   timestamp          int64  \n",
      " 8   helpful_vote       int64  \n",
      " 9   verified_purchase  bool   \n",
      "dtypes: bool(1), float64(1), int64(2), object(6)\n",
      "memory usage: 3.3+ GB\n"
     ]
    }
   ],
   "source": [
    "df.info()"
   ]
  },
  {
   "cell_type": "code",
   "execution_count": 6,
   "id": "88773fc5",
   "metadata": {},
   "outputs": [
    {
     "data": {
      "text/plain": [
       "count    4.388694e+07\n",
       "mean     1.531991e+12\n",
       "std      1.034418e+11\n",
       "min      8.483363e+11\n",
       "25%      1.460919e+12\n",
       "50%      1.550518e+12\n",
       "75%      1.613698e+12\n",
       "max      1.694626e+12\n",
       "Name: timestamp, dtype: float64"
      ]
     },
     "execution_count": 6,
     "metadata": {},
     "output_type": "execute_result"
    }
   ],
   "source": [
    "df['timestamp'].describe()"
   ]
  },
  {
   "cell_type": "code",
   "execution_count": 14,
   "id": "959fa616",
   "metadata": {},
   "outputs": [
    {
     "data": {
      "text/plain": [
       "'I had an 8-year-old micro sd card reader (see photo), also made by Kingston, and it wouldn\\'t read my new SanDisk micro sd card. I called Kingston, and they said it MAY be that the 8-year-old card reader that I was using could be the problem. That maybe my old card would be better suited finding a drive-in movie theater and watching this new, juggernaut of a film called E.T.<br />So, you\\'re telling me it\\'s old, then? lol. Uh...YEAH.<br /><br />I plugged in the micro sd card to this new Kingston reader, \\x00and it worked perfectly. Windows popped up right away with a window asking what I wanted to do.  Transfer files, please.<br /><br />Here\\'s the fantastic part:<br />I transferred 50.5 GB in less than 5 minutes! Maybe faster than that, I shoulda timed it. It would move\\x00, like 400 MB, in the count of 3! Just super, SUPER fast (If you\\'re reading this review in 2028, try not to bust a rib laughing at how slow that is!).<br />My computer has a USB 3.0 and this card is also 3.0 speed (you can tell this because the tab inside the USB port will be BLUE). If you DON\\'T see a blue tab on your computer, then this will NOT transfer files nearly as fast.<br /><br />I also like that \"SD\" is engraved on one side of the reader and \"Micro SD\" is engraved on the other in case you weren\\'t sure. This reader does read SD and MicroSD.<br /><br />I can\\'t speak to the durability cuz I\\'ve only used it once. I don\\'t plan on using this to change my car tire, \\x00so I suspect it will last a while.<br /><br />I also would\\'ve liked to see some kind of a cute little case to hold this in. It IS exposed to the elements of whatever drawer you keep it in without a case to protect it from dust, etc\\x00.<br />I posted a picture of a little box I got at the container store for a dollar. It\\'s a nice fit.<br />Hope this was helpful!'"
      ]
     },
     "execution_count": 14,
     "metadata": {},
     "output_type": "execute_result"
    }
   ],
   "source": [
    "df.iloc[693865].loc['text']"
   ]
  },
  {
   "cell_type": "code",
   "execution_count": null,
   "id": "14838516",
   "metadata": {},
   "outputs": [],
   "source": []
  }
 ],
 "metadata": {
  "kernelspec": {
   "display_name": "Python 3 (ipykernel)",
   "language": "python",
   "name": "python3"
  },
  "language_info": {
   "codemirror_mode": {
    "name": "ipython",
    "version": 3
   },
   "file_extension": ".py",
   "mimetype": "text/x-python",
   "name": "python",
   "nbconvert_exporter": "python",
   "pygments_lexer": "ipython3",
   "version": "3.11.5"
  }
 },
 "nbformat": 4,
 "nbformat_minor": 5
}
